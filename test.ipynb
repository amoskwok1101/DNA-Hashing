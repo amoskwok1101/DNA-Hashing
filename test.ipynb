{
 "cells": [
  {
   "cell_type": "code",
   "execution_count": 1,
   "metadata": {},
   "outputs": [
    {
     "data": {
      "text/plain": [
       "[0.0, 0.1]"
      ]
     },
     "execution_count": 1,
     "metadata": {},
     "output_type": "execute_result"
    }
   ],
   "source": [
    "# gives me 4 range that partition number range from 0 to max into 4 equal parts\n",
    "def partition(max, n):\n",
    "    range_ = []\n",
    "    for i in range(n):\n",
    "        \n",
    "        range_.append(round(i*max/n, 4))\n",
    "    return range_\n",
    "partition(0.2, 2)\n"
   ]
  },
  {
   "cell_type": "code",
   "execution_count": 4,
   "metadata": {},
   "outputs": [
    {
     "name": "stdout",
     "output_type": "stream",
     "text": [
      "0.05 0.1\n",
      "0.05 0.2\n",
      "0.1 0.2\n"
     ]
    }
   ],
   "source": [
    "import torch\n",
    "l = [0.05,0.1,0.2]\n",
    "\n",
    "for i in range(len(l)):\n",
    "    for j in range(i+1, len(l)):\n",
    "        print(l[i], l[j])\n",
    "my_list = [1, 2, 3, 4, 5]\n",
    "my_tensor = torch.tensor(my_list)\n",
    "print(my_tensor)\n"
   ]
  },
  {
   "cell_type": "code",
   "execution_count": 1,
   "metadata": {},
   "outputs": [
    {
     "name": "stderr",
     "output_type": "stream",
     "text": [
      "/home/amos/miniconda3/envs/py38/lib/python3.8/site-packages/tqdm/auto.py:21: TqdmWarning: IProgress not found. Please update jupyter and ipywidgets. See https://ipywidgets.readthedocs.io/en/stable/user_install.html\n",
      "  from .autonotebook import tqdm as notebook_tqdm\n"
     ]
    },
    {
     "name": "stdout",
     "output_type": "stream",
     "text": [
      "Time taken: 0.2551767826080322 seconds\n"
     ]
    }
   ],
   "source": [
    "from global_seq_align_gpu import global_alignment_batch_no_gap_penalty\n",
    "from batchify import get_batches\n",
    "from utils import load_sent\n",
    "from vocab_less import Vocab\n",
    "import torch\n",
    "batch_size = 100000\n",
    "\n",
    "sents = load_sent('/home/amos/MgDB_amos/data/virus_all.fasta_noAmbiguous_cdhit_onebase_90percent')\n",
    "vocab = Vocab()\n",
    "batches= get_batches(sents, vocab, batch_size, device = torch.device(\"cuda\"))"
   ]
  },
  {
   "cell_type": "code",
   "execution_count": 2,
   "metadata": {},
   "outputs": [
    {
     "name": "stderr",
     "output_type": "stream",
     "text": [
      "100%|██████████| 5/5 [00:08<00:00,  1.66s/it]\n",
      "100%|██████████| 5/5 [00:08<00:00,  1.69s/it]\n",
      "100%|██████████| 5/5 [00:08<00:00,  1.67s/it]\n",
      "100%|██████████| 5/5 [00:08<00:00,  1.68s/it]\n",
      "100%|██████████| 5/5 [00:08<00:00,  1.65s/it]\n",
      "100%|██████████| 5/5 [00:08<00:00,  1.69s/it]\n",
      "100%|██████████| 5/5 [00:08<00:00,  1.66s/it]\n",
      "100%|██████████| 5/5 [00:08<00:00,  1.65s/it]\n",
      "100%|██████████| 5/5 [00:08<00:00,  1.69s/it]\n",
      "100%|██████████| 5/5 [00:08<00:00,  1.67s/it]\n",
      "100%|██████████| 5/5 [00:08<00:00,  1.68s/it]\n",
      "100%|██████████| 5/5 [00:08<00:00,  1.66s/it]\n",
      "100%|██████████| 5/5 [00:08<00:00,  1.67s/it]\n",
      "100%|██████████| 5/5 [00:08<00:00,  1.70s/it]\n",
      "100%|██████████| 5/5 [00:08<00:00,  1.68s/it]\n",
      "100%|██████████| 5/5 [00:08<00:00,  1.68s/it]\n",
      "100%|██████████| 5/5 [00:08<00:00,  1.68s/it]\n",
      "100%|██████████| 5/5 [00:08<00:00,  1.69s/it]\n",
      "100%|██████████| 5/5 [00:08<00:00,  1.66s/it]\n",
      "100%|██████████| 5/5 [00:08<00:00,  1.68s/it]\n",
      "100%|██████████| 5/5 [00:08<00:00,  1.66s/it]\n",
      "100%|██████████| 5/5 [00:08<00:00,  1.66s/it]\n",
      "100%|██████████| 5/5 [00:08<00:00,  1.69s/it]\n",
      "100%|██████████| 5/5 [00:08<00:00,  1.67s/it]\n",
      "100%|██████████| 5/5 [00:08<00:00,  1.70s/it]\n",
      " 20%|██        | 1/5 [00:02<00:11,  2.82s/it]\n"
     ]
    },
    {
     "ename": "KeyboardInterrupt",
     "evalue": "",
     "output_type": "error",
     "traceback": [
      "\u001b[0;31m---------------------------------------------------------------------------\u001b[0m",
      "\u001b[0;31mKeyboardInterrupt\u001b[0m                         Traceback (most recent call last)",
      "Cell \u001b[0;32mIn[2], line 14\u001b[0m\n\u001b[1;32m     12\u001b[0m batch_size \u001b[38;5;241m=\u001b[39m seq1\u001b[38;5;241m.\u001b[39msize(\u001b[38;5;241m0\u001b[39m)\n\u001b[1;32m     13\u001b[0m seq2 \u001b[38;5;241m=\u001b[39m torch\u001b[38;5;241m.\u001b[39mtensor([[vocab\u001b[38;5;241m.\u001b[39mword2idx[c] \u001b[38;5;28;01mfor\u001b[39;00m c \u001b[38;5;129;01min\u001b[39;00m line\u001b[38;5;241m.\u001b[39mstrip() \u001b[38;5;28;01mif\u001b[39;00m c \u001b[38;5;241m!=\u001b[39m \u001b[38;5;124m'\u001b[39m\u001b[38;5;124m \u001b[39m\u001b[38;5;124m'\u001b[39m] \u001b[38;5;28;01mfor\u001b[39;00m i \u001b[38;5;129;01min\u001b[39;00m \u001b[38;5;28mrange\u001b[39m(batch_size)], dtype\u001b[38;5;241m=\u001b[39mtorch\u001b[38;5;241m.\u001b[39mlong, device\u001b[38;5;241m=\u001b[39m\u001b[38;5;124m'\u001b[39m\u001b[38;5;124mcuda\u001b[39m\u001b[38;5;124m'\u001b[39m)\n\u001b[0;32m---> 14\u001b[0m score \u001b[38;5;241m=\u001b[39m \u001b[43mglobal_alignment_batch_no_gap_penalty\u001b[49m\u001b[43m(\u001b[49m\u001b[43mseq1\u001b[49m\u001b[43m,\u001b[49m\u001b[43m \u001b[49m\u001b[43mseq2\u001b[49m\u001b[43m)\u001b[49m\n\u001b[1;32m     15\u001b[0m score_current_min \u001b[38;5;241m=\u001b[39m torch\u001b[38;5;241m.\u001b[39mmin(score)\u001b[38;5;241m.\u001b[39mitem()\n\u001b[1;32m     16\u001b[0m \u001b[38;5;66;03m# break\u001b[39;00m\n\u001b[1;32m     17\u001b[0m \u001b[38;5;66;03m# print(score_current_min)\u001b[39;00m\n",
      "File \u001b[0;32m~/MgDB_amos/global_seq_align_gpu.py:21\u001b[0m, in \u001b[0;36mglobal_alignment_batch_no_gap_penalty\u001b[0;34m(seqs1, seqs2, match_score, mismatch_penalty)\u001b[0m\n\u001b[1;32m     18\u001b[0m         delete \u001b[38;5;241m=\u001b[39m score_matrix[:, i\u001b[38;5;241m-\u001b[39m\u001b[38;5;241m1\u001b[39m, j]\n\u001b[1;32m     19\u001b[0m         insert \u001b[38;5;241m=\u001b[39m score_matrix[:, i, j\u001b[38;5;241m-\u001b[39m\u001b[38;5;241m1\u001b[39m]\n\u001b[0;32m---> 21\u001b[0m         \u001b[43mscore_matrix\u001b[49m\u001b[43m[\u001b[49m\u001b[43m:\u001b[49m\u001b[43m,\u001b[49m\u001b[43m \u001b[49m\u001b[43mi\u001b[49m\u001b[43m,\u001b[49m\u001b[43m \u001b[49m\u001b[43mj\u001b[49m\u001b[43m]\u001b[49m \u001b[38;5;241m=\u001b[39m torch\u001b[38;5;241m.\u001b[39mmax(torch\u001b[38;5;241m.\u001b[39mmax(match, delete), insert)\n\u001b[1;32m     23\u001b[0m final_scores \u001b[38;5;241m=\u001b[39m score_matrix[:, \u001b[38;5;241m-\u001b[39m\u001b[38;5;241m1\u001b[39m, \u001b[38;5;241m-\u001b[39m\u001b[38;5;241m1\u001b[39m]\n\u001b[1;32m     24\u001b[0m \u001b[38;5;28;01mreturn\u001b[39;00m final_scores\n",
      "\u001b[0;31mKeyboardInterrupt\u001b[0m: "
     ]
    }
   ],
   "source": [
    "# read file line by line\n",
    "from tqdm import tqdm\n",
    "with open('/home/amos/MgDB_amos/data/virus_all.fasta_noAmbiguous_cdhit_onebase_10percent_evenly_repeat100_testing') as f:    \n",
    "    lines = f.readlines()\n",
    "    every_100th_line = lines[::100]\n",
    "    min_score = 64\n",
    "    for line in every_100th_line:\n",
    "        \n",
    "        for batch in tqdm(batches):\n",
    "            \n",
    "            seq1 = batch[1:].permute(1, 0)\n",
    "            batch_size = seq1.size(0)\n",
    "            seq2 = torch.tensor([[vocab.word2idx[c] for c in line.strip() if c != ' '] for i in range(batch_size)], dtype=torch.long, device='cuda')\n",
    "            score = global_alignment_batch_no_gap_penalty(seq1, seq2)\n",
    "            score_current_min = torch.min(score).item()\n",
    "            # break\n",
    "            # print(score_current_min)\n",
    "            if score_current_min < min_score:\n",
    "                min_score = score_current_min\n"
   ]
  }
 ],
 "metadata": {
  "kernelspec": {
   "display_name": "py38",
   "language": "python",
   "name": "python3"
  },
  "language_info": {
   "codemirror_mode": {
    "name": "ipython",
    "version": 3
   },
   "file_extension": ".py",
   "mimetype": "text/x-python",
   "name": "python",
   "nbconvert_exporter": "python",
   "pygments_lexer": "ipython3",
   "version": "3.8.17"
  }
 },
 "nbformat": 4,
 "nbformat_minor": 2
}
